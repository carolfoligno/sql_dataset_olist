{
 "cells": [
  {
   "cell_type": "code",
   "execution_count": 1,
   "id": "cba63be4",
   "metadata": {
    "ExecuteTime": {
     "end_time": "2023-01-13T17:14:08.725697Z",
     "start_time": "2023-01-13T17:14:08.526118Z"
    }
   },
   "outputs": [],
   "source": [
    "import sqlite3\n",
    "import pandas as pd\n"
   ]
  },
  {
   "cell_type": "code",
   "execution_count": 2,
   "id": "46bde975",
   "metadata": {
    "ExecuteTime": {
     "end_time": "2023-01-13T17:14:09.520995Z",
     "start_time": "2023-01-13T17:14:09.518415Z"
    }
   },
   "outputs": [],
   "source": [
    "# conectar ao arquivo .sqlite\n",
    "con = sqlite3.connect('db_olist.sqlite')\n",
    "cur = con.cursor()"
   ]
  },
  {
   "cell_type": "code",
   "execution_count": 3,
   "id": "759d2893",
   "metadata": {
    "ExecuteTime": {
     "end_time": "2023-01-13T17:14:10.506183Z",
     "start_time": "2023-01-13T17:14:10.502290Z"
    }
   },
   "outputs": [
    {
     "name": "stdout",
     "output_type": "stream",
     "text": [
      "[('customer',), ('geolocation',), ('order_items',), ('order_payments',), ('order_reviews',), ('orders',), ('products',), ('sellers',), ('product_category_name',)]\n"
     ]
    }
   ],
   "source": [
    "# LISTAR AS TABELAS PRESENTES NO BANCO DE DADOS\n",
    "\n",
    "cur.execute(\"\"\"\n",
    "    SELECT name FROM sqlite_master  \n",
    "    WHERE type= 'table'\n",
    "\"\"\")\n",
    "\n",
    "print(cur.fetchall())\n",
    "\n",
    "con.close()"
   ]
  },
  {
   "cell_type": "markdown",
   "id": "37a77226",
   "metadata": {},
   "source": [
    "**Sobre encerrar a conexão a cada operação**\n",
    "\n",
    "- É uma boa prática liberar os recursos que você não precisa mais. Normalmente, as conexões de banco de dados são muito \"caras\" e é definitivamente recomendado abrir a conexão, fazer a consulta real e fechar a conexão logo em seguida.\n",
    "\n",
    "- Porém, como o objetivo desse projeto é para estudo da linguagem de consulta SQL. Terminarei a conexão no final do projeto."
   ]
  },
  {
   "cell_type": "code",
   "execution_count": 4,
   "id": "c5405cd7",
   "metadata": {
    "ExecuteTime": {
     "end_time": "2023-01-13T17:14:15.081209Z",
     "start_time": "2023-01-13T17:14:15.077919Z"
    }
   },
   "outputs": [],
   "source": [
    "# Reconectar \n",
    "# conectar ao arquivo .sqlite\n",
    "con = sqlite3.connect('db_olist.sqlite')\n",
    "cur = con.cursor()"
   ]
  },
  {
   "cell_type": "markdown",
   "id": "c9ab370a",
   "metadata": {},
   "source": [
    "## **PERGUNTAS DO CEO:**"
   ]
  },
  {
   "cell_type": "markdown",
   "id": "fec867fd",
   "metadata": {},
   "source": [
    "**1. Qual o número de clientes únicos de todos os estados?**"
   ]
  },
  {
   "cell_type": "code",
   "execution_count": 5,
   "id": "9302102b",
   "metadata": {
    "ExecuteTime": {
     "end_time": "2023-01-13T17:14:16.814818Z",
     "start_time": "2023-01-13T17:14:16.702021Z"
    }
   },
   "outputs": [
    {
     "data": {
      "text/html": [
       "<div>\n",
       "<style scoped>\n",
       "    .dataframe tbody tr th:only-of-type {\n",
       "        vertical-align: middle;\n",
       "    }\n",
       "\n",
       "    .dataframe tbody tr th {\n",
       "        vertical-align: top;\n",
       "    }\n",
       "\n",
       "    .dataframe thead th {\n",
       "        text-align: right;\n",
       "    }\n",
       "</style>\n",
       "<table border=\"1\" class=\"dataframe\">\n",
       "  <thead>\n",
       "    <tr style=\"text-align: right;\">\n",
       "      <th></th>\n",
       "      <th>customer_state</th>\n",
       "      <th>clientes</th>\n",
       "    </tr>\n",
       "  </thead>\n",
       "  <tbody>\n",
       "    <tr>\n",
       "      <th>0</th>\n",
       "      <td>AC</td>\n",
       "      <td>81</td>\n",
       "    </tr>\n",
       "    <tr>\n",
       "      <th>1</th>\n",
       "      <td>AL</td>\n",
       "      <td>413</td>\n",
       "    </tr>\n",
       "    <tr>\n",
       "      <th>2</th>\n",
       "      <td>AM</td>\n",
       "      <td>148</td>\n",
       "    </tr>\n",
       "    <tr>\n",
       "      <th>3</th>\n",
       "      <td>AP</td>\n",
       "      <td>68</td>\n",
       "    </tr>\n",
       "    <tr>\n",
       "      <th>4</th>\n",
       "      <td>BA</td>\n",
       "      <td>3380</td>\n",
       "    </tr>\n",
       "  </tbody>\n",
       "</table>\n",
       "</div>"
      ],
      "text/plain": [
       "  customer_state  clientes\n",
       "0             AC        81\n",
       "1             AL       413\n",
       "2             AM       148\n",
       "3             AP        68\n",
       "4             BA      3380"
      ]
     },
     "execution_count": 5,
     "metadata": {},
     "output_type": "execute_result"
    }
   ],
   "source": [
    "query = \"\"\"\n",
    "SELECT \n",
    "    c.customer_state,\n",
    "    COUNT(DISTINCT c.customer_id) AS clientes\n",
    "FROM customer c \n",
    "GROUP BY c.customer_state\n",
    "\"\"\"\n",
    "\n",
    "cur.execute(query)\n",
    "\n",
    "# como a biblioteca pandas, o resultado da consulta está em dataframe\n",
    "df = pd.read_sql(query, con = con)\n",
    "\n",
    "# head mostra as 5 primeiras linhas\n",
    "df.head()\n"
   ]
  },
  {
   "cell_type": "markdown",
   "id": "f7cd9326",
   "metadata": {},
   "source": [
    "**2. Qual o número total de pedidos únicos, a data mínima e máxima de envio, o valor máximo, mínimo e médio do frete dos pedidos acima de R$ 1.100 por cada vendedor?**"
   ]
  },
  {
   "cell_type": "code",
   "execution_count": 6,
   "id": "04b70e77",
   "metadata": {
    "ExecuteTime": {
     "end_time": "2023-01-13T17:14:18.414518Z",
     "start_time": "2023-01-13T17:14:18.278214Z"
    }
   },
   "outputs": [
    {
     "data": {
      "text/html": [
       "<div>\n",
       "<style scoped>\n",
       "    .dataframe tbody tr th:only-of-type {\n",
       "        vertical-align: middle;\n",
       "    }\n",
       "\n",
       "    .dataframe tbody tr th {\n",
       "        vertical-align: top;\n",
       "    }\n",
       "\n",
       "    .dataframe thead th {\n",
       "        text-align: right;\n",
       "    }\n",
       "</style>\n",
       "<table border=\"1\" class=\"dataframe\">\n",
       "  <thead>\n",
       "    <tr style=\"text-align: right;\">\n",
       "      <th></th>\n",
       "      <th>seller_id</th>\n",
       "      <th>COUNT(DISTINCT oi.product_id)</th>\n",
       "      <th>MIN(oi.shipping_limit_date)</th>\n",
       "      <th>MAX(oi.shipping_limit_date)</th>\n",
       "      <th>MAX(oi.freight_value)</th>\n",
       "      <th>MIN(oi.freight_value)</th>\n",
       "      <th>AVG(oi.freight_value)</th>\n",
       "    </tr>\n",
       "  </thead>\n",
       "  <tbody>\n",
       "    <tr>\n",
       "      <th>0</th>\n",
       "      <td>0015a82c2db000af6aaaf3ae2ecb0532</td>\n",
       "      <td>1</td>\n",
       "      <td>2017-10-12 22:24:16</td>\n",
       "      <td>2017-10-24 23:56:20</td>\n",
       "      <td>21.02</td>\n",
       "      <td>21.02</td>\n",
       "      <td>21.020000</td>\n",
       "    </tr>\n",
       "    <tr>\n",
       "      <th>1</th>\n",
       "      <td>001cca7ae9ae17fb1caed9dfb1094831</td>\n",
       "      <td>11</td>\n",
       "      <td>2017-02-08 19:06:04</td>\n",
       "      <td>2018-07-19 21:50:17</td>\n",
       "      <td>114.62</td>\n",
       "      <td>14.72</td>\n",
       "      <td>37.046611</td>\n",
       "    </tr>\n",
       "    <tr>\n",
       "      <th>2</th>\n",
       "      <td>001e6ad469a905060d959994f1b41e4f</td>\n",
       "      <td>1</td>\n",
       "      <td>2018-08-13 23:05:23</td>\n",
       "      <td>2018-08-13 23:05:23</td>\n",
       "      <td>17.94</td>\n",
       "      <td>17.94</td>\n",
       "      <td>17.940000</td>\n",
       "    </tr>\n",
       "    <tr>\n",
       "      <th>3</th>\n",
       "      <td>002100f778ceb8431b7a1020ff7ab48f</td>\n",
       "      <td>24</td>\n",
       "      <td>2017-09-20 01:10:15</td>\n",
       "      <td>2018-04-18 13:11:45</td>\n",
       "      <td>34.15</td>\n",
       "      <td>4.91</td>\n",
       "      <td>14.430182</td>\n",
       "    </tr>\n",
       "    <tr>\n",
       "      <th>4</th>\n",
       "      <td>003554e2dce176b5555353e4f3555ac8</td>\n",
       "      <td>1</td>\n",
       "      <td>2017-12-21 07:11:03</td>\n",
       "      <td>2017-12-21 07:11:03</td>\n",
       "      <td>19.38</td>\n",
       "      <td>19.38</td>\n",
       "      <td>19.380000</td>\n",
       "    </tr>\n",
       "  </tbody>\n",
       "</table>\n",
       "</div>"
      ],
      "text/plain": [
       "                          seller_id  COUNT(DISTINCT oi.product_id)  \\\n",
       "0  0015a82c2db000af6aaaf3ae2ecb0532                              1   \n",
       "1  001cca7ae9ae17fb1caed9dfb1094831                             11   \n",
       "2  001e6ad469a905060d959994f1b41e4f                              1   \n",
       "3  002100f778ceb8431b7a1020ff7ab48f                             24   \n",
       "4  003554e2dce176b5555353e4f3555ac8                              1   \n",
       "\n",
       "  MIN(oi.shipping_limit_date) MAX(oi.shipping_limit_date)  \\\n",
       "0         2017-10-12 22:24:16         2017-10-24 23:56:20   \n",
       "1         2017-02-08 19:06:04         2018-07-19 21:50:17   \n",
       "2         2018-08-13 23:05:23         2018-08-13 23:05:23   \n",
       "3         2017-09-20 01:10:15         2018-04-18 13:11:45   \n",
       "4         2017-12-21 07:11:03         2017-12-21 07:11:03   \n",
       "\n",
       "   MAX(oi.freight_value)  MIN(oi.freight_value)  AVG(oi.freight_value)  \n",
       "0                  21.02                  21.02              21.020000  \n",
       "1                 114.62                  14.72              37.046611  \n",
       "2                  17.94                  17.94              17.940000  \n",
       "3                  34.15                   4.91              14.430182  \n",
       "4                  19.38                  19.38              19.380000  "
      ]
     },
     "execution_count": 6,
     "metadata": {},
     "output_type": "execute_result"
    }
   ],
   "source": [
    "query = \"\"\"\n",
    "SELECT \n",
    "    oi.seller_id,\n",
    "    COUNT(DISTINCT oi.product_id),\n",
    "    MIN(oi.shipping_limit_date),\n",
    "    MAX(oi.shipping_limit_date),\n",
    "    MAX(oi.freight_value),\n",
    "    MIN(oi.freight_value),\n",
    "    AVG(oi.freight_value) \n",
    "FROM order_items oi \n",
    "WHERE oi.price < 1100\n",
    "GROUP BY oi.seller_id;\n",
    "\"\"\"\n",
    "\n",
    "cur.execute(query)\n",
    "\n",
    "# como a biblioteca pandas, o resultado da consulta está em dataframe\n",
    "df = pd.read_sql(query, con = con)\n",
    "\n",
    "# head mostra as 5 primeiras linhas\n",
    "df.head()\n"
   ]
  },
  {
   "cell_type": "markdown",
   "id": "29ccd777",
   "metadata": {},
   "source": [
    "**3. Qual o valor médio, máximo e mínimo do preço de todos os pedidos de cada produto?**"
   ]
  },
  {
   "cell_type": "code",
   "execution_count": 7,
   "id": "15cf26ef",
   "metadata": {
    "ExecuteTime": {
     "end_time": "2023-01-13T17:14:18.902474Z",
     "start_time": "2023-01-13T17:14:18.759722Z"
    }
   },
   "outputs": [
    {
     "data": {
      "text/html": [
       "<div>\n",
       "<style scoped>\n",
       "    .dataframe tbody tr th:only-of-type {\n",
       "        vertical-align: middle;\n",
       "    }\n",
       "\n",
       "    .dataframe tbody tr th {\n",
       "        vertical-align: top;\n",
       "    }\n",
       "\n",
       "    .dataframe thead th {\n",
       "        text-align: right;\n",
       "    }\n",
       "</style>\n",
       "<table border=\"1\" class=\"dataframe\">\n",
       "  <thead>\n",
       "    <tr style=\"text-align: right;\">\n",
       "      <th></th>\n",
       "      <th>product_id</th>\n",
       "      <th>AVG(oi.price)</th>\n",
       "      <th>MAX(oi.price)</th>\n",
       "      <th>MIN(oi.price)</th>\n",
       "    </tr>\n",
       "  </thead>\n",
       "  <tbody>\n",
       "    <tr>\n",
       "      <th>0</th>\n",
       "      <td>00066f42aeeb9f3007548bb9d3f33c38</td>\n",
       "      <td>101.65</td>\n",
       "      <td>101.65</td>\n",
       "      <td>101.65</td>\n",
       "    </tr>\n",
       "    <tr>\n",
       "      <th>1</th>\n",
       "      <td>00088930e925c41fd95ebfe695fd2655</td>\n",
       "      <td>129.90</td>\n",
       "      <td>129.90</td>\n",
       "      <td>129.90</td>\n",
       "    </tr>\n",
       "    <tr>\n",
       "      <th>2</th>\n",
       "      <td>0009406fd7479715e4bef61dd91f2462</td>\n",
       "      <td>229.00</td>\n",
       "      <td>229.00</td>\n",
       "      <td>229.00</td>\n",
       "    </tr>\n",
       "    <tr>\n",
       "      <th>3</th>\n",
       "      <td>000b8f95fcb9e0096488278317764d19</td>\n",
       "      <td>58.90</td>\n",
       "      <td>58.90</td>\n",
       "      <td>58.90</td>\n",
       "    </tr>\n",
       "    <tr>\n",
       "      <th>4</th>\n",
       "      <td>000d9be29b5207b54e86aa1b1ac54872</td>\n",
       "      <td>199.00</td>\n",
       "      <td>199.00</td>\n",
       "      <td>199.00</td>\n",
       "    </tr>\n",
       "  </tbody>\n",
       "</table>\n",
       "</div>"
      ],
      "text/plain": [
       "                         product_id  AVG(oi.price)  MAX(oi.price)  \\\n",
       "0  00066f42aeeb9f3007548bb9d3f33c38         101.65         101.65   \n",
       "1  00088930e925c41fd95ebfe695fd2655         129.90         129.90   \n",
       "2  0009406fd7479715e4bef61dd91f2462         229.00         229.00   \n",
       "3  000b8f95fcb9e0096488278317764d19          58.90          58.90   \n",
       "4  000d9be29b5207b54e86aa1b1ac54872         199.00         199.00   \n",
       "\n",
       "   MIN(oi.price)  \n",
       "0         101.65  \n",
       "1         129.90  \n",
       "2         229.00  \n",
       "3          58.90  \n",
       "4         199.00  "
      ]
     },
     "execution_count": 7,
     "metadata": {},
     "output_type": "execute_result"
    }
   ],
   "source": [
    "query = \"\"\"\n",
    "SELECT \n",
    "    oi.product_id,\n",
    "    AVG(oi.price),\n",
    "    MAX(oi.price),\n",
    "    MIN(oi.price)\n",
    "FROM order_items oi \n",
    "GROUP BY oi.product_id\n",
    "\"\"\"\n",
    "\n",
    "cur.execute(query)\n",
    "\n",
    "# como a biblioteca pandas, o resultado da consulta está em dataframe\n",
    "df = pd.read_sql(query, con = con)\n",
    "\n",
    "# head mostra as 5 primeiras linhas\n",
    "df.head()\n"
   ]
  },
  {
   "cell_type": "markdown",
   "id": "08964878",
   "metadata": {},
   "source": [
    "**4. Qual a quantidade de vendedores distintos que receberam algum pedido antes do dia 23 de setembro de 2016 e qual foi o preço médio desses pedidos?**"
   ]
  },
  {
   "cell_type": "code",
   "execution_count": 8,
   "id": "a1f3a3cb",
   "metadata": {
    "ExecuteTime": {
     "end_time": "2023-01-13T17:14:19.149138Z",
     "start_time": "2023-01-13T17:14:19.112136Z"
    }
   },
   "outputs": [
    {
     "data": {
      "text/html": [
       "<div>\n",
       "<style scoped>\n",
       "    .dataframe tbody tr th:only-of-type {\n",
       "        vertical-align: middle;\n",
       "    }\n",
       "\n",
       "    .dataframe tbody tr th {\n",
       "        vertical-align: top;\n",
       "    }\n",
       "\n",
       "    .dataframe thead th {\n",
       "        text-align: right;\n",
       "    }\n",
       "</style>\n",
       "<table border=\"1\" class=\"dataframe\">\n",
       "  <thead>\n",
       "    <tr style=\"text-align: right;\">\n",
       "      <th></th>\n",
       "      <th>shipping_limit_date</th>\n",
       "      <th>vendedores</th>\n",
       "      <th>avg_price</th>\n",
       "    </tr>\n",
       "  </thead>\n",
       "  <tbody>\n",
       "    <tr>\n",
       "      <th>0</th>\n",
       "      <td>2016-09-19 00:15:34</td>\n",
       "      <td>1</td>\n",
       "      <td>59.50</td>\n",
       "    </tr>\n",
       "    <tr>\n",
       "      <th>1</th>\n",
       "      <td>2016-09-19 23:11:33</td>\n",
       "      <td>1</td>\n",
       "      <td>44.99</td>\n",
       "    </tr>\n",
       "  </tbody>\n",
       "</table>\n",
       "</div>"
      ],
      "text/plain": [
       "   shipping_limit_date  vendedores  avg_price\n",
       "0  2016-09-19 00:15:34           1      59.50\n",
       "1  2016-09-19 23:11:33           1      44.99"
      ]
     },
     "execution_count": 8,
     "metadata": {},
     "output_type": "execute_result"
    }
   ],
   "source": [
    "query = \"\"\"\n",
    "SELECT \n",
    "    oi.shipping_limit_date,\n",
    "    COUNT(DISTINCT oi.seller_id) AS vendedores,\n",
    "    AVG(oi.price) AS avg_price \n",
    "FROM order_items oi \n",
    "WHERE oi.shipping_limit_date < '2016-09-23 00:00:00'\n",
    "GROUP BY oi.shipping_limit_date\n",
    "\"\"\"\n",
    "\n",
    "cur.execute(query)\n",
    "\n",
    "# como a biblioteca pandas, o resultado da consulta está em dataframe\n",
    "df = pd.read_sql(query, con = con)\n",
    "\n",
    "\n",
    "df\n"
   ]
  },
  {
   "cell_type": "markdown",
   "id": "b87ad302",
   "metadata": {},
   "source": [
    "**5.  Qual a quantidade de pedidos por tipo de pagamentos?**"
   ]
  },
  {
   "cell_type": "code",
   "execution_count": 9,
   "id": "47d497fb",
   "metadata": {
    "ExecuteTime": {
     "end_time": "2023-01-13T17:14:20.031003Z",
     "start_time": "2023-01-13T17:14:19.966674Z"
    }
   },
   "outputs": [
    {
     "data": {
      "text/html": [
       "<div>\n",
       "<style scoped>\n",
       "    .dataframe tbody tr th:only-of-type {\n",
       "        vertical-align: middle;\n",
       "    }\n",
       "\n",
       "    .dataframe tbody tr th {\n",
       "        vertical-align: top;\n",
       "    }\n",
       "\n",
       "    .dataframe thead th {\n",
       "        text-align: right;\n",
       "    }\n",
       "</style>\n",
       "<table border=\"1\" class=\"dataframe\">\n",
       "  <thead>\n",
       "    <tr style=\"text-align: right;\">\n",
       "      <th></th>\n",
       "      <th>payment_type</th>\n",
       "      <th>COUNT(op.order_id)</th>\n",
       "    </tr>\n",
       "  </thead>\n",
       "  <tbody>\n",
       "    <tr>\n",
       "      <th>0</th>\n",
       "      <td>boleto</td>\n",
       "      <td>19784</td>\n",
       "    </tr>\n",
       "    <tr>\n",
       "      <th>1</th>\n",
       "      <td>credit_card</td>\n",
       "      <td>76795</td>\n",
       "    </tr>\n",
       "    <tr>\n",
       "      <th>2</th>\n",
       "      <td>debit_card</td>\n",
       "      <td>1529</td>\n",
       "    </tr>\n",
       "    <tr>\n",
       "      <th>3</th>\n",
       "      <td>not_defined</td>\n",
       "      <td>3</td>\n",
       "    </tr>\n",
       "    <tr>\n",
       "      <th>4</th>\n",
       "      <td>voucher</td>\n",
       "      <td>5775</td>\n",
       "    </tr>\n",
       "  </tbody>\n",
       "</table>\n",
       "</div>"
      ],
      "text/plain": [
       "  payment_type  COUNT(op.order_id)\n",
       "0       boleto               19784\n",
       "1  credit_card               76795\n",
       "2   debit_card                1529\n",
       "3  not_defined                   3\n",
       "4      voucher                5775"
      ]
     },
     "execution_count": 9,
     "metadata": {},
     "output_type": "execute_result"
    }
   ],
   "source": [
    "query = \"\"\"\n",
    "SELECT \n",
    "    op.payment_type,\n",
    "    COUNT(op.order_id) \n",
    "FROM order_payments op \n",
    "GROUP BY op.payment_type\n",
    "\"\"\"\n",
    "\n",
    "cur.execute(query)\n",
    "\n",
    "# como a biblioteca pandas, o resultado da consulta está em dataframe\n",
    "df = pd.read_sql(query, con = con)\n",
    "df"
   ]
  },
  {
   "cell_type": "markdown",
   "id": "251440d0",
   "metadata": {},
   "source": [
    "**6. Quantos clientes únicos tiveram seu pedidos com status de “processing”, “shipped” e “delivered”, feitos entre os dias 01 e 31 de Outubro de 2016. Mostrar o resultado somente se o número total de clientes for acima de 5.**"
   ]
  },
  {
   "cell_type": "code",
   "execution_count": 10,
   "id": "ba22478e",
   "metadata": {
    "ExecuteTime": {
     "end_time": "2023-01-13T17:14:20.338898Z",
     "start_time": "2023-01-13T17:14:20.295147Z"
    }
   },
   "outputs": [
    {
     "data": {
      "text/html": [
       "<div>\n",
       "<style scoped>\n",
       "    .dataframe tbody tr th:only-of-type {\n",
       "        vertical-align: middle;\n",
       "    }\n",
       "\n",
       "    .dataframe tbody tr th {\n",
       "        vertical-align: top;\n",
       "    }\n",
       "\n",
       "    .dataframe thead th {\n",
       "        text-align: right;\n",
       "    }\n",
       "</style>\n",
       "<table border=\"1\" class=\"dataframe\">\n",
       "  <thead>\n",
       "    <tr style=\"text-align: right;\">\n",
       "      <th></th>\n",
       "      <th>order_status</th>\n",
       "      <th>COUNT(DISTINCT o.order_id)</th>\n",
       "    </tr>\n",
       "  </thead>\n",
       "  <tbody>\n",
       "    <tr>\n",
       "      <th>0</th>\n",
       "      <td>delivered</td>\n",
       "      <td>265</td>\n",
       "    </tr>\n",
       "    <tr>\n",
       "      <th>1</th>\n",
       "      <td>shipped</td>\n",
       "      <td>8</td>\n",
       "    </tr>\n",
       "  </tbody>\n",
       "</table>\n",
       "</div>"
      ],
      "text/plain": [
       "  order_status  COUNT(DISTINCT o.order_id)\n",
       "0    delivered                         265\n",
       "1      shipped                           8"
      ]
     },
     "execution_count": 10,
     "metadata": {},
     "output_type": "execute_result"
    }
   ],
   "source": [
    "query = \"\"\"\n",
    "SELECT \n",
    "    o.order_status,\n",
    "    COUNT(DISTINCT o.order_id) \n",
    "FROM orders o \n",
    "WHERE o.order_status IN ('processing', 'shipped', 'delivered') AND \n",
    "    o.order_purchase_timestamp BETWEEN '2016-10-01' AND '2016-10-31'\n",
    "GROUP BY o.order_status \n",
    "HAVING COUNT(DISTINCT o.order_id) > 5\n",
    "\"\"\"\n",
    "\n",
    "cur.execute(query)\n",
    "\n",
    "# como a biblioteca pandas, o resultado da consulta está em dataframe\n",
    "df = pd.read_sql(query, con = con)\n",
    "df\n"
   ]
  },
  {
   "cell_type": "markdown",
   "id": "e5f7d962",
   "metadata": {},
   "source": [
    "**7. Quantos produtos estão cadastrados nas categorias: perfumaria, brinquedos, esporte lazer e cama mesa, que possuem entre 5 e 10 fotos, um peso que não está entre 1 e 5 g, um altura maior que 10 cm, uma largura maior que 20 cm. Mostra somente as linhas com mais de 10 produtos únicos.**"
   ]
  },
  {
   "cell_type": "code",
   "execution_count": 11,
   "id": "a627ef8a",
   "metadata": {
    "ExecuteTime": {
     "end_time": "2023-01-13T17:14:20.669789Z",
     "start_time": "2023-01-13T17:14:20.648103Z"
    }
   },
   "outputs": [
    {
     "data": {
      "text/html": [
       "<div>\n",
       "<style scoped>\n",
       "    .dataframe tbody tr th:only-of-type {\n",
       "        vertical-align: middle;\n",
       "    }\n",
       "\n",
       "    .dataframe tbody tr th {\n",
       "        vertical-align: top;\n",
       "    }\n",
       "\n",
       "    .dataframe thead th {\n",
       "        text-align: right;\n",
       "    }\n",
       "</style>\n",
       "<table border=\"1\" class=\"dataframe\">\n",
       "  <thead>\n",
       "    <tr style=\"text-align: right;\">\n",
       "      <th></th>\n",
       "      <th>product_category_name</th>\n",
       "      <th>produtos</th>\n",
       "    </tr>\n",
       "  </thead>\n",
       "  <tbody>\n",
       "    <tr>\n",
       "      <th>0</th>\n",
       "      <td>brinquedos</td>\n",
       "      <td>68</td>\n",
       "    </tr>\n",
       "    <tr>\n",
       "      <th>1</th>\n",
       "      <td>cama_mesa_banho</td>\n",
       "      <td>34</td>\n",
       "    </tr>\n",
       "    <tr>\n",
       "      <th>2</th>\n",
       "      <td>esporte_lazer</td>\n",
       "      <td>112</td>\n",
       "    </tr>\n",
       "    <tr>\n",
       "      <th>3</th>\n",
       "      <td>perfumaria</td>\n",
       "      <td>8</td>\n",
       "    </tr>\n",
       "  </tbody>\n",
       "</table>\n",
       "</div>"
      ],
      "text/plain": [
       "  product_category_name  produtos\n",
       "0            brinquedos        68\n",
       "1       cama_mesa_banho        34\n",
       "2         esporte_lazer       112\n",
       "3            perfumaria         8"
      ]
     },
     "execution_count": 11,
     "metadata": {},
     "output_type": "execute_result"
    }
   ],
   "source": [
    "query = \"\"\"\n",
    "SELECT\n",
    "    p.product_category_name,\n",
    "    COUNT(DISTINCT p.product_id) as produtos\n",
    "FROM products p\n",
    "WHERE p.product_category_name IN ('perfumaria', 'brinquedos', 'esporte_lazer', 'cama_mesa_banho') \n",
    "    AND p.product_photos_qty BETWEEN 5 AND 10 \n",
    "    AND p.product_weight_g NOT BETWEEN 1 AND 5\n",
    "    AND p.product_height_cm > 10\n",
    "    AND p.product_width_cm > 20\n",
    "GROUP BY p.product_category_name\n",
    "\"\"\"\n",
    "\n",
    "cur.execute(query)\n",
    "\n",
    "# como a biblioteca pandas, o resultado da consulta está em dataframe\n",
    "df = pd.read_sql(query, con = con)\n",
    "df"
   ]
  },
  {
   "cell_type": "markdown",
   "id": "4e0714df",
   "metadata": {},
   "source": [
    "**8.Quantos produtos estão cadastrados em qualquer categorias que comece com a letra “a” e termine com a letra “o” e que possuem mais de 5 fotos? Mostrar as linhas com mais de 10 produtos.**"
   ]
  },
  {
   "cell_type": "code",
   "execution_count": 12,
   "id": "0479d62f",
   "metadata": {
    "ExecuteTime": {
     "end_time": "2023-01-13T17:14:21.104905Z",
     "start_time": "2023-01-13T17:14:21.086817Z"
    }
   },
   "outputs": [
    {
     "data": {
      "text/html": [
       "<div>\n",
       "<style scoped>\n",
       "    .dataframe tbody tr th:only-of-type {\n",
       "        vertical-align: middle;\n",
       "    }\n",
       "\n",
       "    .dataframe tbody tr th {\n",
       "        vertical-align: top;\n",
       "    }\n",
       "\n",
       "    .dataframe thead th {\n",
       "        text-align: right;\n",
       "    }\n",
       "</style>\n",
       "<table border=\"1\" class=\"dataframe\">\n",
       "  <thead>\n",
       "    <tr style=\"text-align: right;\">\n",
       "      <th></th>\n",
       "      <th>product_category_name</th>\n",
       "      <th>produtos</th>\n",
       "    </tr>\n",
       "  </thead>\n",
       "  <tbody>\n",
       "    <tr>\n",
       "      <th>0</th>\n",
       "      <td>automotivo</td>\n",
       "      <td>172</td>\n",
       "    </tr>\n",
       "  </tbody>\n",
       "</table>\n",
       "</div>"
      ],
      "text/plain": [
       "  product_category_name  produtos\n",
       "0            automotivo       172"
      ]
     },
     "execution_count": 12,
     "metadata": {},
     "output_type": "execute_result"
    }
   ],
   "source": [
    "query = \"\"\"\n",
    "SELECT \n",
    "    p.product_category_name,\n",
    "    COUNT(DISTINCT p.product_id) as produtos\n",
    "FROM products p \n",
    "WHERE p.product_category_name LIKE 'a%o'\n",
    "    AND p.product_photos_qty > 5\n",
    "GROUP BY p.product_category_name \n",
    "HAVING COUNT(DISTINCT p.product_id) > 10\n",
    "\"\"\"\n",
    "\n",
    "cur.execute(query)\n",
    "\n",
    "# como a biblioteca pandas, o resultado da consulta está em dataframe\n",
    "df = pd.read_sql(query, con = con)\n",
    "df"
   ]
  },
  {
   "cell_type": "markdown",
   "id": "d61dd014",
   "metadata": {},
   "source": [
    "**9. Qual o número de clientes únicos, agrupados por estado e por cidades que comecem com a letra “m”, tem a letra “o” e terminem com a letra “a”? Mostrar os resultados somente para o número de clientes únicos maior que 10.**"
   ]
  },
  {
   "cell_type": "code",
   "execution_count": 13,
   "id": "1b87c700",
   "metadata": {
    "ExecuteTime": {
     "end_time": "2023-01-13T17:14:21.508357Z",
     "start_time": "2023-01-13T17:14:21.478980Z"
    }
   },
   "outputs": [
    {
     "data": {
      "text/html": [
       "<div>\n",
       "<style scoped>\n",
       "    .dataframe tbody tr th:only-of-type {\n",
       "        vertical-align: middle;\n",
       "    }\n",
       "\n",
       "    .dataframe tbody tr th {\n",
       "        vertical-align: top;\n",
       "    }\n",
       "\n",
       "    .dataframe thead th {\n",
       "        text-align: right;\n",
       "    }\n",
       "</style>\n",
       "<table border=\"1\" class=\"dataframe\">\n",
       "  <thead>\n",
       "    <tr style=\"text-align: right;\">\n",
       "      <th></th>\n",
       "      <th>customer_state</th>\n",
       "      <th>customer_city</th>\n",
       "      <th>COUNT(DISTINCT c.customer_id)</th>\n",
       "    </tr>\n",
       "  </thead>\n",
       "  <tbody>\n",
       "    <tr>\n",
       "      <th>0</th>\n",
       "      <td>MG</td>\n",
       "      <td>matias barbosa</td>\n",
       "      <td>13</td>\n",
       "    </tr>\n",
       "    <tr>\n",
       "      <th>1</th>\n",
       "      <td>SP</td>\n",
       "      <td>mairipora</td>\n",
       "      <td>75</td>\n",
       "    </tr>\n",
       "    <tr>\n",
       "      <th>2</th>\n",
       "      <td>SP</td>\n",
       "      <td>mococa</td>\n",
       "      <td>34</td>\n",
       "    </tr>\n",
       "    <tr>\n",
       "      <th>3</th>\n",
       "      <td>SP</td>\n",
       "      <td>mongagua</td>\n",
       "      <td>42</td>\n",
       "    </tr>\n",
       "    <tr>\n",
       "      <th>4</th>\n",
       "      <td>SP</td>\n",
       "      <td>monte azul paulista</td>\n",
       "      <td>19</td>\n",
       "    </tr>\n",
       "  </tbody>\n",
       "</table>\n",
       "</div>"
      ],
      "text/plain": [
       "  customer_state        customer_city  COUNT(DISTINCT c.customer_id)\n",
       "0             MG       matias barbosa                             13\n",
       "1             SP            mairipora                             75\n",
       "2             SP               mococa                             34\n",
       "3             SP             mongagua                             42\n",
       "4             SP  monte azul paulista                             19"
      ]
     },
     "execution_count": 13,
     "metadata": {},
     "output_type": "execute_result"
    }
   ],
   "source": [
    "query = \"\"\"\n",
    "SELECT \n",
    "    c.customer_state,\n",
    "    c.customer_city,\n",
    "    COUNT(DISTINCT c.customer_id) \n",
    "FROM customer c \n",
    "WHERE c.customer_city LIKE 'm%o%a'\n",
    "GROUP BY c.customer_state, c.customer_city \n",
    "HAVING COUNT(DISTINCT c.customer_id) > 10\n",
    "\"\"\"\n",
    "\n",
    "cur.execute(query)\n",
    "\n",
    "# como a biblioteca pandas, o resultado da consulta está em dataframe\n",
    "df = pd.read_sql(query, con = con)\n",
    "df"
   ]
  },
  {
   "cell_type": "markdown",
   "id": "acf5c75f",
   "metadata": {},
   "source": [
    "**10. Qual a quantidade de pedidos com o status em processamento ou cancelada acontecem com a data estimada de entrega maior que 01 de Janeiro de 2017 ou menor que 23 de Novembro de 2016?**"
   ]
  },
  {
   "cell_type": "code",
   "execution_count": 14,
   "id": "391e7f4e",
   "metadata": {
    "ExecuteTime": {
     "end_time": "2023-01-13T17:14:21.954282Z",
     "start_time": "2023-01-13T17:14:21.926207Z"
    }
   },
   "outputs": [
    {
     "data": {
      "text/html": [
       "<div>\n",
       "<style scoped>\n",
       "    .dataframe tbody tr th:only-of-type {\n",
       "        vertical-align: middle;\n",
       "    }\n",
       "\n",
       "    .dataframe tbody tr th {\n",
       "        vertical-align: top;\n",
       "    }\n",
       "\n",
       "    .dataframe thead th {\n",
       "        text-align: right;\n",
       "    }\n",
       "</style>\n",
       "<table border=\"1\" class=\"dataframe\">\n",
       "  <thead>\n",
       "    <tr style=\"text-align: right;\">\n",
       "      <th></th>\n",
       "      <th>order_status</th>\n",
       "      <th>COUNT(DISTINCT o.order_id)</th>\n",
       "    </tr>\n",
       "  </thead>\n",
       "  <tbody>\n",
       "    <tr>\n",
       "      <th>0</th>\n",
       "      <td>canceled</td>\n",
       "      <td>484</td>\n",
       "    </tr>\n",
       "    <tr>\n",
       "      <th>1</th>\n",
       "      <td>processing</td>\n",
       "      <td>301</td>\n",
       "    </tr>\n",
       "  </tbody>\n",
       "</table>\n",
       "</div>"
      ],
      "text/plain": [
       "  order_status  COUNT(DISTINCT o.order_id)\n",
       "0     canceled                         484\n",
       "1   processing                         301"
      ]
     },
     "execution_count": 14,
     "metadata": {},
     "output_type": "execute_result"
    }
   ],
   "source": [
    "query = \"\"\"\n",
    "SELECT \n",
    "    o.order_status,\n",
    "    COUNT(DISTINCT o.order_id)\n",
    "FROM orders o\n",
    "WHERE o.order_status = 'processing' OR o.order_status = 'canceled' AND \n",
    "    (o.order_approved_at > '2017-01-01' OR o.order_approved_at < '2016-11-23')\n",
    "GROUP BY o.order_status\n",
    "\"\"\"\n",
    "\n",
    "cur.execute(query)\n",
    "\n",
    "# como a biblioteca pandas, o resultado da consulta está em dataframe\n",
    "df = pd.read_sql(query, con = con)\n",
    "df"
   ]
  },
  {
   "cell_type": "markdown",
   "id": "9d6a632d",
   "metadata": {},
   "source": [
    "**11. Gerar uma tabela de dados com 10 linhas, contendo o id do pedido, o id do cliente, o status do pedido, o id do produto e o preço do produto.**"
   ]
  },
  {
   "cell_type": "code",
   "execution_count": 15,
   "id": "c9912955",
   "metadata": {
    "ExecuteTime": {
     "end_time": "2023-01-13T17:14:22.560028Z",
     "start_time": "2023-01-13T17:14:22.399404Z"
    }
   },
   "outputs": [
    {
     "data": {
      "text/html": [
       "<div>\n",
       "<style scoped>\n",
       "    .dataframe tbody tr th:only-of-type {\n",
       "        vertical-align: middle;\n",
       "    }\n",
       "\n",
       "    .dataframe tbody tr th {\n",
       "        vertical-align: top;\n",
       "    }\n",
       "\n",
       "    .dataframe thead th {\n",
       "        text-align: right;\n",
       "    }\n",
       "</style>\n",
       "<table border=\"1\" class=\"dataframe\">\n",
       "  <thead>\n",
       "    <tr style=\"text-align: right;\">\n",
       "      <th></th>\n",
       "      <th>order_id</th>\n",
       "      <th>customer_id</th>\n",
       "      <th>order_status</th>\n",
       "      <th>product_id</th>\n",
       "      <th>price</th>\n",
       "    </tr>\n",
       "  </thead>\n",
       "  <tbody>\n",
       "    <tr>\n",
       "      <th>0</th>\n",
       "      <td>e481f51cbdc54678b7cc49136f2d6af7</td>\n",
       "      <td>9ef432eb6251297304e76186b10a928d</td>\n",
       "      <td>delivered</td>\n",
       "      <td>87285b34884572647811a353c7ac498a</td>\n",
       "      <td>29.99</td>\n",
       "    </tr>\n",
       "    <tr>\n",
       "      <th>1</th>\n",
       "      <td>53cdb2fc8bc7dce0b6741e2150273451</td>\n",
       "      <td>b0830fb4747a6c6d20dea0b8c802d7ef</td>\n",
       "      <td>delivered</td>\n",
       "      <td>595fac2a385ac33a80bd5114aec74eb8</td>\n",
       "      <td>118.70</td>\n",
       "    </tr>\n",
       "    <tr>\n",
       "      <th>2</th>\n",
       "      <td>47770eb9100c2d0c44946d9cf07ec65d</td>\n",
       "      <td>41ce2a54c0b03bf3443c3d931a367089</td>\n",
       "      <td>delivered</td>\n",
       "      <td>aa4383b373c6aca5d8797843e5594415</td>\n",
       "      <td>159.90</td>\n",
       "    </tr>\n",
       "    <tr>\n",
       "      <th>3</th>\n",
       "      <td>949d5b44dbf5de918fe9c16f97b45f8a</td>\n",
       "      <td>f88197465ea7920adcdbec7375364d82</td>\n",
       "      <td>delivered</td>\n",
       "      <td>d0b61bfb1de832b15ba9d266ca96e5b0</td>\n",
       "      <td>45.00</td>\n",
       "    </tr>\n",
       "    <tr>\n",
       "      <th>4</th>\n",
       "      <td>ad21c59c0840e6cb83a9ceb5573f8159</td>\n",
       "      <td>8ab97904e6daea8866dbdbc4fb7aad2c</td>\n",
       "      <td>delivered</td>\n",
       "      <td>65266b2da20d04dbe00c5c2d3bb7859e</td>\n",
       "      <td>19.90</td>\n",
       "    </tr>\n",
       "  </tbody>\n",
       "</table>\n",
       "</div>"
      ],
      "text/plain": [
       "                           order_id                       customer_id  \\\n",
       "0  e481f51cbdc54678b7cc49136f2d6af7  9ef432eb6251297304e76186b10a928d   \n",
       "1  53cdb2fc8bc7dce0b6741e2150273451  b0830fb4747a6c6d20dea0b8c802d7ef   \n",
       "2  47770eb9100c2d0c44946d9cf07ec65d  41ce2a54c0b03bf3443c3d931a367089   \n",
       "3  949d5b44dbf5de918fe9c16f97b45f8a  f88197465ea7920adcdbec7375364d82   \n",
       "4  ad21c59c0840e6cb83a9ceb5573f8159  8ab97904e6daea8866dbdbc4fb7aad2c   \n",
       "\n",
       "  order_status                        product_id   price  \n",
       "0    delivered  87285b34884572647811a353c7ac498a   29.99  \n",
       "1    delivered  595fac2a385ac33a80bd5114aec74eb8  118.70  \n",
       "2    delivered  aa4383b373c6aca5d8797843e5594415  159.90  \n",
       "3    delivered  d0b61bfb1de832b15ba9d266ca96e5b0   45.00  \n",
       "4    delivered  65266b2da20d04dbe00c5c2d3bb7859e   19.90  "
      ]
     },
     "execution_count": 15,
     "metadata": {},
     "output_type": "execute_result"
    }
   ],
   "source": [
    "query = \"\"\"\n",
    "SELECT \n",
    "    o.order_id,\n",
    "    o.customer_id,\n",
    "    o.order_status,\n",
    "    oi.product_id,\n",
    "    oi.price \n",
    "FROM orders o INNER JOIN order_items oi ON (o.order_id = oi.order_id)\n",
    "LIMIT 10;\n",
    "\"\"\"\n",
    "\n",
    "cur.execute(query)\n",
    "\n",
    "# como a biblioteca pandas, o resultado da consulta está em dataframe\n",
    "df = pd.read_sql(query, con = con)\n",
    "df.head()"
   ]
  },
  {
   "cell_type": "markdown",
   "id": "d6908bc7",
   "metadata": {},
   "source": [
    "**12. Gerar uma tabela de dados com 20 linhas, contendo o id do pedido, o estado do cliente, a cidade do cliente, o status do pedido, o id do produto e o preço do produto, somente para clientes do estado de São Paulo**"
   ]
  },
  {
   "cell_type": "code",
   "execution_count": 16,
   "id": "cea41e7b",
   "metadata": {
    "ExecuteTime": {
     "end_time": "2023-01-13T17:14:23.374804Z",
     "start_time": "2023-01-13T17:14:22.854438Z"
    }
   },
   "outputs": [
    {
     "data": {
      "text/html": [
       "<div>\n",
       "<style scoped>\n",
       "    .dataframe tbody tr th:only-of-type {\n",
       "        vertical-align: middle;\n",
       "    }\n",
       "\n",
       "    .dataframe tbody tr th {\n",
       "        vertical-align: top;\n",
       "    }\n",
       "\n",
       "    .dataframe thead th {\n",
       "        text-align: right;\n",
       "    }\n",
       "</style>\n",
       "<table border=\"1\" class=\"dataframe\">\n",
       "  <thead>\n",
       "    <tr style=\"text-align: right;\">\n",
       "      <th></th>\n",
       "      <th>order_id</th>\n",
       "      <th>customer_state</th>\n",
       "      <th>customer_city</th>\n",
       "      <th>order_status</th>\n",
       "      <th>product_id</th>\n",
       "      <th>price</th>\n",
       "    </tr>\n",
       "  </thead>\n",
       "  <tbody>\n",
       "    <tr>\n",
       "      <th>0</th>\n",
       "      <td>00e7ee1b050b8499577073aeb2a297a1</td>\n",
       "      <td>SP</td>\n",
       "      <td>franca</td>\n",
       "      <td>delivered</td>\n",
       "      <td>a9516a079e37a9c9c36b9b78b10169e8</td>\n",
       "      <td>124.99</td>\n",
       "    </tr>\n",
       "    <tr>\n",
       "      <th>1</th>\n",
       "      <td>29150127e6685892b6eab3eec79f59c7</td>\n",
       "      <td>SP</td>\n",
       "      <td>sao bernardo do campo</td>\n",
       "      <td>delivered</td>\n",
       "      <td>4aa6014eceb682077f9dc4bffebc05b0</td>\n",
       "      <td>289.00</td>\n",
       "    </tr>\n",
       "    <tr>\n",
       "      <th>2</th>\n",
       "      <td>b2059ed67ce144a36e2aa97d2c9e9ad2</td>\n",
       "      <td>SP</td>\n",
       "      <td>sao paulo</td>\n",
       "      <td>delivered</td>\n",
       "      <td>bd07b66896d6f1494f5b86251848ced7</td>\n",
       "      <td>139.94</td>\n",
       "    </tr>\n",
       "    <tr>\n",
       "      <th>3</th>\n",
       "      <td>951670f92359f4fe4a63112aa7306eba</td>\n",
       "      <td>SP</td>\n",
       "      <td>mogi das cruzes</td>\n",
       "      <td>delivered</td>\n",
       "      <td>a5647c44af977b148e0a3a4751a09e2e</td>\n",
       "      <td>149.94</td>\n",
       "    </tr>\n",
       "    <tr>\n",
       "      <th>4</th>\n",
       "      <td>6b7d50bd145f6fc7f33cebabd7e49d0f</td>\n",
       "      <td>SP</td>\n",
       "      <td>campinas</td>\n",
       "      <td>delivered</td>\n",
       "      <td>9391a573abe00141c56e38d84d7d5b3b</td>\n",
       "      <td>230.00</td>\n",
       "    </tr>\n",
       "  </tbody>\n",
       "</table>\n",
       "</div>"
      ],
      "text/plain": [
       "                           order_id customer_state          customer_city  \\\n",
       "0  00e7ee1b050b8499577073aeb2a297a1             SP                 franca   \n",
       "1  29150127e6685892b6eab3eec79f59c7             SP  sao bernardo do campo   \n",
       "2  b2059ed67ce144a36e2aa97d2c9e9ad2             SP              sao paulo   \n",
       "3  951670f92359f4fe4a63112aa7306eba             SP        mogi das cruzes   \n",
       "4  6b7d50bd145f6fc7f33cebabd7e49d0f             SP               campinas   \n",
       "\n",
       "  order_status                        product_id   price  \n",
       "0    delivered  a9516a079e37a9c9c36b9b78b10169e8  124.99  \n",
       "1    delivered  4aa6014eceb682077f9dc4bffebc05b0  289.00  \n",
       "2    delivered  bd07b66896d6f1494f5b86251848ced7  139.94  \n",
       "3    delivered  a5647c44af977b148e0a3a4751a09e2e  149.94  \n",
       "4    delivered  9391a573abe00141c56e38d84d7d5b3b  230.00  "
      ]
     },
     "execution_count": 16,
     "metadata": {},
     "output_type": "execute_result"
    }
   ],
   "source": [
    "query = \"\"\"\n",
    "SELECT \n",
    "    o.order_id,\n",
    "    c.customer_state,\n",
    "    c.customer_city, \n",
    "    o.order_status,\n",
    "    oi.product_id,\n",
    "    oi.price \n",
    "FROM orders o INNER JOIN order_items oi ON (o.order_id = oi.order_id)\n",
    "              INNER JOIN customer c ON (o.customer_id = c.customer_id)\n",
    " WHERE c.customer_state = 'SP'\n",
    "LIMIT 20;\n",
    "\"\"\"\n",
    "\n",
    "cur.execute(query)\n",
    "\n",
    "# como a biblioteca pandas, o resultado da consulta está em dataframe\n",
    "df = pd.read_sql(query, con = con)\n",
    "df.head()"
   ]
  },
  {
   "cell_type": "markdown",
   "id": "f3636533",
   "metadata": {},
   "source": [
    "**13. Gerar uma tabela de dados com 50 linhas, contendo o id do pedido, o estado e a cidade do cliente, o status do pedido, o nome da categoria do produto e o preço do produto, somente para pedidos com o status igual a cancelado.**"
   ]
  },
  {
   "cell_type": "code",
   "execution_count": 17,
   "id": "d04b0046",
   "metadata": {
    "ExecuteTime": {
     "end_time": "2023-01-13T17:14:23.869065Z",
     "start_time": "2023-01-13T17:14:23.376297Z"
    }
   },
   "outputs": [
    {
     "data": {
      "text/html": [
       "<div>\n",
       "<style scoped>\n",
       "    .dataframe tbody tr th:only-of-type {\n",
       "        vertical-align: middle;\n",
       "    }\n",
       "\n",
       "    .dataframe tbody tr th {\n",
       "        vertical-align: top;\n",
       "    }\n",
       "\n",
       "    .dataframe thead th {\n",
       "        text-align: right;\n",
       "    }\n",
       "</style>\n",
       "<table border=\"1\" class=\"dataframe\">\n",
       "  <thead>\n",
       "    <tr style=\"text-align: right;\">\n",
       "      <th></th>\n",
       "      <th>order_id</th>\n",
       "      <th>customer_state</th>\n",
       "      <th>customer_city</th>\n",
       "      <th>order_status</th>\n",
       "      <th>product_category_name</th>\n",
       "      <th>price</th>\n",
       "    </tr>\n",
       "  </thead>\n",
       "  <tbody>\n",
       "    <tr>\n",
       "      <th>0</th>\n",
       "      <td>1b9ecfe83cdc259250e1a8aca174f0ad</td>\n",
       "      <td>SP</td>\n",
       "      <td>sao paulo</td>\n",
       "      <td>canceled</td>\n",
       "      <td>informatica_acessorios</td>\n",
       "      <td>25.00</td>\n",
       "    </tr>\n",
       "    <tr>\n",
       "      <th>1</th>\n",
       "      <td>714fb133a6730ab81fa1d3c1b2007291</td>\n",
       "      <td>SP</td>\n",
       "      <td>diadema</td>\n",
       "      <td>canceled</td>\n",
       "      <td>moveis_decoracao</td>\n",
       "      <td>69.90</td>\n",
       "    </tr>\n",
       "    <tr>\n",
       "      <th>2</th>\n",
       "      <td>3a129877493c8189c59c60eb71d97c29</td>\n",
       "      <td>PR</td>\n",
       "      <td>maringa</td>\n",
       "      <td>canceled</td>\n",
       "      <td>esporte_lazer</td>\n",
       "      <td>35.90</td>\n",
       "    </tr>\n",
       "    <tr>\n",
       "      <th>3</th>\n",
       "      <td>0966b61e30c4a07edbd7523f59b3f3e4</td>\n",
       "      <td>RJ</td>\n",
       "      <td>rio das ostras</td>\n",
       "      <td>canceled</td>\n",
       "      <td>moveis_decoracao</td>\n",
       "      <td>68.31</td>\n",
       "    </tr>\n",
       "    <tr>\n",
       "      <th>4</th>\n",
       "      <td>0966b61e30c4a07edbd7523f59b3f3e4</td>\n",
       "      <td>RJ</td>\n",
       "      <td>rio das ostras</td>\n",
       "      <td>canceled</td>\n",
       "      <td>moveis_decoracao</td>\n",
       "      <td>68.31</td>\n",
       "    </tr>\n",
       "  </tbody>\n",
       "</table>\n",
       "</div>"
      ],
      "text/plain": [
       "                           order_id customer_state   customer_city  \\\n",
       "0  1b9ecfe83cdc259250e1a8aca174f0ad             SP       sao paulo   \n",
       "1  714fb133a6730ab81fa1d3c1b2007291             SP         diadema   \n",
       "2  3a129877493c8189c59c60eb71d97c29             PR         maringa   \n",
       "3  0966b61e30c4a07edbd7523f59b3f3e4             RJ  rio das ostras   \n",
       "4  0966b61e30c4a07edbd7523f59b3f3e4             RJ  rio das ostras   \n",
       "\n",
       "  order_status   product_category_name  price  \n",
       "0     canceled  informatica_acessorios  25.00  \n",
       "1     canceled        moveis_decoracao  69.90  \n",
       "2     canceled           esporte_lazer  35.90  \n",
       "3     canceled        moveis_decoracao  68.31  \n",
       "4     canceled        moveis_decoracao  68.31  "
      ]
     },
     "execution_count": 17,
     "metadata": {},
     "output_type": "execute_result"
    }
   ],
   "source": [
    "query = \"\"\"\n",
    "SELECT \n",
    "    o.order_id,\n",
    "    c.customer_state,\n",
    "    c.customer_city, \n",
    "    o.order_status,\n",
    "    p.product_category_name,\n",
    "    oi.price \n",
    "FROM orders o INNER JOIN order_items oi ON (o.order_id = oi.order_id)\n",
    "              INNER JOIN customer c ON (o.customer_id = c.customer_id)\n",
    "              INNER JOIN products p ON (oi.product_id = p.product_id)\n",
    "WHERE o.order_status = 'canceled'\n",
    "LIMIT 50;\n",
    "\"\"\"\n",
    "\n",
    "cur.execute(query)\n",
    "\n",
    "# como a biblioteca pandas, o resultado da consulta está em dataframe\n",
    "df = pd.read_sql(query, con = con)\n",
    "df.head()"
   ]
  },
  {
   "cell_type": "markdown",
   "id": "7ba541aa",
   "metadata": {},
   "source": [
    "**14.Gerar uma tabela de dados com 80 linhas, contendo o id do pedido, o estado e a cidade do cliente, o status do pedido, o nome da categoria do produto, o preço do produto, a cidade e o estado do vendedor e a data de aprovação do pedido, somente para os pedidos aprovadas a partir do dia 16 de Setembro de 2016.**"
   ]
  },
  {
   "cell_type": "code",
   "execution_count": 18,
   "id": "5ac408ad",
   "metadata": {
    "ExecuteTime": {
     "end_time": "2023-01-13T17:14:24.859783Z",
     "start_time": "2023-01-13T17:14:24.358644Z"
    }
   },
   "outputs": [
    {
     "data": {
      "text/html": [
       "<div>\n",
       "<style scoped>\n",
       "    .dataframe tbody tr th:only-of-type {\n",
       "        vertical-align: middle;\n",
       "    }\n",
       "\n",
       "    .dataframe tbody tr th {\n",
       "        vertical-align: top;\n",
       "    }\n",
       "\n",
       "    .dataframe thead th {\n",
       "        text-align: right;\n",
       "    }\n",
       "</style>\n",
       "<table border=\"1\" class=\"dataframe\">\n",
       "  <thead>\n",
       "    <tr style=\"text-align: right;\">\n",
       "      <th></th>\n",
       "      <th>order_id</th>\n",
       "      <th>customer_state</th>\n",
       "      <th>customer_city</th>\n",
       "      <th>order_status</th>\n",
       "      <th>product_category_name</th>\n",
       "      <th>price</th>\n",
       "      <th>seller_city</th>\n",
       "      <th>seller_state</th>\n",
       "      <th>order_approved_at</th>\n",
       "    </tr>\n",
       "  </thead>\n",
       "  <tbody>\n",
       "    <tr>\n",
       "      <th>0</th>\n",
       "      <td>e481f51cbdc54678b7cc49136f2d6af7</td>\n",
       "      <td>SP</td>\n",
       "      <td>sao paulo</td>\n",
       "      <td>delivered</td>\n",
       "      <td>utilidades_domesticas</td>\n",
       "      <td>29.99</td>\n",
       "      <td>maua</td>\n",
       "      <td>SP</td>\n",
       "      <td>2017-10-02 11:07:15</td>\n",
       "    </tr>\n",
       "    <tr>\n",
       "      <th>1</th>\n",
       "      <td>53cdb2fc8bc7dce0b6741e2150273451</td>\n",
       "      <td>BA</td>\n",
       "      <td>barreiras</td>\n",
       "      <td>delivered</td>\n",
       "      <td>perfumaria</td>\n",
       "      <td>118.70</td>\n",
       "      <td>belo horizonte</td>\n",
       "      <td>SP</td>\n",
       "      <td>2018-07-26 03:24:27</td>\n",
       "    </tr>\n",
       "    <tr>\n",
       "      <th>2</th>\n",
       "      <td>47770eb9100c2d0c44946d9cf07ec65d</td>\n",
       "      <td>GO</td>\n",
       "      <td>vianopolis</td>\n",
       "      <td>delivered</td>\n",
       "      <td>automotivo</td>\n",
       "      <td>159.90</td>\n",
       "      <td>guariba</td>\n",
       "      <td>SP</td>\n",
       "      <td>2018-08-08 08:55:23</td>\n",
       "    </tr>\n",
       "    <tr>\n",
       "      <th>3</th>\n",
       "      <td>949d5b44dbf5de918fe9c16f97b45f8a</td>\n",
       "      <td>RN</td>\n",
       "      <td>sao goncalo do amarante</td>\n",
       "      <td>delivered</td>\n",
       "      <td>pet_shop</td>\n",
       "      <td>45.00</td>\n",
       "      <td>belo horizonte</td>\n",
       "      <td>MG</td>\n",
       "      <td>2017-11-18 19:45:59</td>\n",
       "    </tr>\n",
       "    <tr>\n",
       "      <th>4</th>\n",
       "      <td>ad21c59c0840e6cb83a9ceb5573f8159</td>\n",
       "      <td>SP</td>\n",
       "      <td>santo andre</td>\n",
       "      <td>delivered</td>\n",
       "      <td>papelaria</td>\n",
       "      <td>19.90</td>\n",
       "      <td>mogi das cruzes</td>\n",
       "      <td>SP</td>\n",
       "      <td>2018-02-13 22:20:29</td>\n",
       "    </tr>\n",
       "  </tbody>\n",
       "</table>\n",
       "</div>"
      ],
      "text/plain": [
       "                           order_id customer_state            customer_city  \\\n",
       "0  e481f51cbdc54678b7cc49136f2d6af7             SP                sao paulo   \n",
       "1  53cdb2fc8bc7dce0b6741e2150273451             BA                barreiras   \n",
       "2  47770eb9100c2d0c44946d9cf07ec65d             GO               vianopolis   \n",
       "3  949d5b44dbf5de918fe9c16f97b45f8a             RN  sao goncalo do amarante   \n",
       "4  ad21c59c0840e6cb83a9ceb5573f8159             SP              santo andre   \n",
       "\n",
       "  order_status  product_category_name   price      seller_city seller_state  \\\n",
       "0    delivered  utilidades_domesticas   29.99             maua           SP   \n",
       "1    delivered             perfumaria  118.70   belo horizonte           SP   \n",
       "2    delivered             automotivo  159.90          guariba           SP   \n",
       "3    delivered               pet_shop   45.00   belo horizonte           MG   \n",
       "4    delivered              papelaria   19.90  mogi das cruzes           SP   \n",
       "\n",
       "     order_approved_at  \n",
       "0  2017-10-02 11:07:15  \n",
       "1  2018-07-26 03:24:27  \n",
       "2  2018-08-08 08:55:23  \n",
       "3  2017-11-18 19:45:59  \n",
       "4  2018-02-13 22:20:29  "
      ]
     },
     "execution_count": 18,
     "metadata": {},
     "output_type": "execute_result"
    }
   ],
   "source": [
    "query = \"\"\"\n",
    "SELECT \n",
    "    o.order_id,\n",
    "    c.customer_state,\n",
    "    c.customer_city, \n",
    "    o.order_status,\n",
    "    p.product_category_name,\n",
    "    oi.price,\n",
    "    s.seller_city,\n",
    "    s.seller_state,\n",
    "    o.order_approved_at \n",
    "FROM orders o INNER JOIN order_items oi ON (o.order_id = oi.order_id)\n",
    "              INNER JOIN customer c ON (o.customer_id = c.customer_id)\n",
    "              INNER JOIN products p ON (oi.product_id = p.product_id)\n",
    "              INNER JOIN sellers s ON (oi.seller_id = s.seller_id)\n",
    "WHERE o.order_approved_at > '2016-09-16'\n",
    "LIMIT 80;\n",
    "\"\"\"\n",
    "\n",
    "cur.execute(query)\n",
    "\n",
    "# como a biblioteca pandas, o resultado da consulta está em dataframe\n",
    "df = pd.read_sql(query, con = con)\n",
    "df.head()"
   ]
  },
  {
   "cell_type": "markdown",
   "id": "87129807",
   "metadata": {},
   "source": [
    "**15. Gerar uma tabela de dados com 70 linhas, contendo o id do pedido, o estado e a cidade do cliente, o status do pedido, o nome da categoria do produto, o preço do produto, a cidade e o estado do vendedor, a data de aprovação do pedido, tipo de pagamento e a nota de avaliação do produto, somente para os pedidos com a nota de avaliação do produto igual a 1.**"
   ]
  },
  {
   "cell_type": "code",
   "execution_count": 19,
   "id": "b4214d24",
   "metadata": {
    "ExecuteTime": {
     "end_time": "2023-01-13T17:14:26.892833Z",
     "start_time": "2023-01-13T17:14:25.701833Z"
    }
   },
   "outputs": [
    {
     "data": {
      "text/html": [
       "<div>\n",
       "<style scoped>\n",
       "    .dataframe tbody tr th:only-of-type {\n",
       "        vertical-align: middle;\n",
       "    }\n",
       "\n",
       "    .dataframe tbody tr th {\n",
       "        vertical-align: top;\n",
       "    }\n",
       "\n",
       "    .dataframe thead th {\n",
       "        text-align: right;\n",
       "    }\n",
       "</style>\n",
       "<table border=\"1\" class=\"dataframe\">\n",
       "  <thead>\n",
       "    <tr style=\"text-align: right;\">\n",
       "      <th></th>\n",
       "      <th>order_id</th>\n",
       "      <th>customer_state</th>\n",
       "      <th>customer_city</th>\n",
       "      <th>order_status</th>\n",
       "      <th>product_category_name</th>\n",
       "      <th>price</th>\n",
       "      <th>seller_city</th>\n",
       "      <th>seller_state</th>\n",
       "      <th>order_approved_at</th>\n",
       "      <th>payment_type</th>\n",
       "      <th>review_score</th>\n",
       "    </tr>\n",
       "  </thead>\n",
       "  <tbody>\n",
       "    <tr>\n",
       "      <th>0</th>\n",
       "      <td>b18dcdf73be66366873cd26c5724d1dc</td>\n",
       "      <td>SP</td>\n",
       "      <td>sao paulo</td>\n",
       "      <td>delivered</td>\n",
       "      <td>cama_mesa_banho</td>\n",
       "      <td>119.0</td>\n",
       "      <td>belo horizonte</td>\n",
       "      <td>MG</td>\n",
       "      <td>2018-04-09 20:10:35</td>\n",
       "      <td>credit_card</td>\n",
       "      <td>1</td>\n",
       "    </tr>\n",
       "    <tr>\n",
       "      <th>1</th>\n",
       "      <td>b18dcdf73be66366873cd26c5724d1dc</td>\n",
       "      <td>SP</td>\n",
       "      <td>sao paulo</td>\n",
       "      <td>delivered</td>\n",
       "      <td>cama_mesa_banho</td>\n",
       "      <td>99.9</td>\n",
       "      <td>piracicaba</td>\n",
       "      <td>SP</td>\n",
       "      <td>2018-04-09 20:10:35</td>\n",
       "      <td>credit_card</td>\n",
       "      <td>1</td>\n",
       "    </tr>\n",
       "    <tr>\n",
       "      <th>2</th>\n",
       "      <td>b18dcdf73be66366873cd26c5724d1dc</td>\n",
       "      <td>SP</td>\n",
       "      <td>sao paulo</td>\n",
       "      <td>delivered</td>\n",
       "      <td>cama_mesa_banho</td>\n",
       "      <td>99.9</td>\n",
       "      <td>piracicaba</td>\n",
       "      <td>SP</td>\n",
       "      <td>2018-04-09 20:10:35</td>\n",
       "      <td>credit_card</td>\n",
       "      <td>1</td>\n",
       "    </tr>\n",
       "    <tr>\n",
       "      <th>3</th>\n",
       "      <td>b18dcdf73be66366873cd26c5724d1dc</td>\n",
       "      <td>SP</td>\n",
       "      <td>sao paulo</td>\n",
       "      <td>delivered</td>\n",
       "      <td>cama_mesa_banho</td>\n",
       "      <td>99.9</td>\n",
       "      <td>piracicaba</td>\n",
       "      <td>SP</td>\n",
       "      <td>2018-04-09 20:10:35</td>\n",
       "      <td>credit_card</td>\n",
       "      <td>1</td>\n",
       "    </tr>\n",
       "    <tr>\n",
       "      <th>4</th>\n",
       "      <td>583174fbe37d3d5f0d6661be3aad1786</td>\n",
       "      <td>SP</td>\n",
       "      <td>guarulhos</td>\n",
       "      <td>canceled</td>\n",
       "      <td>malas_acessorios</td>\n",
       "      <td>89.9</td>\n",
       "      <td>sao paulo</td>\n",
       "      <td>SP</td>\n",
       "      <td>2018-08-05 19:24:33</td>\n",
       "      <td>credit_card</td>\n",
       "      <td>1</td>\n",
       "    </tr>\n",
       "  </tbody>\n",
       "</table>\n",
       "</div>"
      ],
      "text/plain": [
       "                           order_id customer_state customer_city order_status  \\\n",
       "0  b18dcdf73be66366873cd26c5724d1dc             SP     sao paulo    delivered   \n",
       "1  b18dcdf73be66366873cd26c5724d1dc             SP     sao paulo    delivered   \n",
       "2  b18dcdf73be66366873cd26c5724d1dc             SP     sao paulo    delivered   \n",
       "3  b18dcdf73be66366873cd26c5724d1dc             SP     sao paulo    delivered   \n",
       "4  583174fbe37d3d5f0d6661be3aad1786             SP     guarulhos     canceled   \n",
       "\n",
       "  product_category_name  price     seller_city seller_state  \\\n",
       "0       cama_mesa_banho  119.0  belo horizonte           MG   \n",
       "1       cama_mesa_banho   99.9      piracicaba           SP   \n",
       "2       cama_mesa_banho   99.9      piracicaba           SP   \n",
       "3       cama_mesa_banho   99.9      piracicaba           SP   \n",
       "4      malas_acessorios   89.9       sao paulo           SP   \n",
       "\n",
       "     order_approved_at payment_type  review_score  \n",
       "0  2018-04-09 20:10:35  credit_card             1  \n",
       "1  2018-04-09 20:10:35  credit_card             1  \n",
       "2  2018-04-09 20:10:35  credit_card             1  \n",
       "3  2018-04-09 20:10:35  credit_card             1  \n",
       "4  2018-08-05 19:24:33  credit_card             1  "
      ]
     },
     "execution_count": 19,
     "metadata": {},
     "output_type": "execute_result"
    }
   ],
   "source": [
    "query = \"\"\"\n",
    "SELECT \n",
    "    o.order_id,\n",
    "    c.customer_state,\n",
    "    c.customer_city, \n",
    "    o.order_status,\n",
    "    p.product_category_name,\n",
    "    oi.price,\n",
    "    s.seller_city,\n",
    "    s.seller_state,\n",
    "    o.order_approved_at,\n",
    "    op.payment_type,\n",
    "    or2.review_score \n",
    "FROM orders o INNER JOIN order_items oi ON (o.order_id = oi.order_id)\n",
    "              INNER JOIN customer c ON (o.customer_id = c.customer_id)\n",
    "              INNER JOIN products p ON (oi.product_id = p.product_id)\n",
    "              INNER JOIN sellers s ON (oi.seller_id = s.seller_id)\n",
    "              INNER JOIN order_payments op ON (o.order_id = op.order_id)\n",
    "              INNER JOIN order_reviews or2 ON (o.order_id = or2.order_id)\n",
    "WHERE or2.review_score = 1\n",
    "LIMIT 70;\n",
    "\"\"\"\n",
    "\n",
    "cur.execute(query)\n",
    "\n",
    "# como a biblioteca pandas, o resultado da consulta está em dataframe\n",
    "df = pd.read_sql(query, con = con)\n",
    "df.head()"
   ]
  },
  {
   "cell_type": "markdown",
   "id": "216f6463",
   "metadata": {},
   "source": [
    "**16. Gerar uma tabela de dados com 20 linhas e contendo as seguintes colunas: 1) Id do pedido, 2) status do pedido, 3) id do produto, 4) categoria do produto, 5) avaliação do pedido, 6) valor do pagamento, 7) tipo do pagamento, 8) cidade do vendedor, 9) latitude e longitude da cidade do vendedor.**"
   ]
  },
  {
   "cell_type": "code",
   "execution_count": 20,
   "id": "46f1083c",
   "metadata": {
    "ExecuteTime": {
     "end_time": "2023-01-13T17:14:28.500415Z",
     "start_time": "2023-01-13T17:14:27.320889Z"
    }
   },
   "outputs": [
    {
     "data": {
      "text/html": [
       "<div>\n",
       "<style scoped>\n",
       "    .dataframe tbody tr th:only-of-type {\n",
       "        vertical-align: middle;\n",
       "    }\n",
       "\n",
       "    .dataframe tbody tr th {\n",
       "        vertical-align: top;\n",
       "    }\n",
       "\n",
       "    .dataframe thead th {\n",
       "        text-align: right;\n",
       "    }\n",
       "</style>\n",
       "<table border=\"1\" class=\"dataframe\">\n",
       "  <thead>\n",
       "    <tr style=\"text-align: right;\">\n",
       "      <th></th>\n",
       "      <th>order_id</th>\n",
       "      <th>customer_state</th>\n",
       "      <th>customer_city</th>\n",
       "      <th>order_status</th>\n",
       "      <th>product_category_name</th>\n",
       "      <th>price</th>\n",
       "      <th>seller_city</th>\n",
       "      <th>seller_state</th>\n",
       "      <th>order_approved_at</th>\n",
       "      <th>payment_type</th>\n",
       "      <th>review_score</th>\n",
       "    </tr>\n",
       "  </thead>\n",
       "  <tbody>\n",
       "    <tr>\n",
       "      <th>0</th>\n",
       "      <td>b18dcdf73be66366873cd26c5724d1dc</td>\n",
       "      <td>SP</td>\n",
       "      <td>sao paulo</td>\n",
       "      <td>delivered</td>\n",
       "      <td>cama_mesa_banho</td>\n",
       "      <td>119.0</td>\n",
       "      <td>belo horizonte</td>\n",
       "      <td>MG</td>\n",
       "      <td>2018-04-09 20:10:35</td>\n",
       "      <td>credit_card</td>\n",
       "      <td>1</td>\n",
       "    </tr>\n",
       "    <tr>\n",
       "      <th>1</th>\n",
       "      <td>b18dcdf73be66366873cd26c5724d1dc</td>\n",
       "      <td>SP</td>\n",
       "      <td>sao paulo</td>\n",
       "      <td>delivered</td>\n",
       "      <td>cama_mesa_banho</td>\n",
       "      <td>99.9</td>\n",
       "      <td>piracicaba</td>\n",
       "      <td>SP</td>\n",
       "      <td>2018-04-09 20:10:35</td>\n",
       "      <td>credit_card</td>\n",
       "      <td>1</td>\n",
       "    </tr>\n",
       "    <tr>\n",
       "      <th>2</th>\n",
       "      <td>b18dcdf73be66366873cd26c5724d1dc</td>\n",
       "      <td>SP</td>\n",
       "      <td>sao paulo</td>\n",
       "      <td>delivered</td>\n",
       "      <td>cama_mesa_banho</td>\n",
       "      <td>99.9</td>\n",
       "      <td>piracicaba</td>\n",
       "      <td>SP</td>\n",
       "      <td>2018-04-09 20:10:35</td>\n",
       "      <td>credit_card</td>\n",
       "      <td>1</td>\n",
       "    </tr>\n",
       "    <tr>\n",
       "      <th>3</th>\n",
       "      <td>b18dcdf73be66366873cd26c5724d1dc</td>\n",
       "      <td>SP</td>\n",
       "      <td>sao paulo</td>\n",
       "      <td>delivered</td>\n",
       "      <td>cama_mesa_banho</td>\n",
       "      <td>99.9</td>\n",
       "      <td>piracicaba</td>\n",
       "      <td>SP</td>\n",
       "      <td>2018-04-09 20:10:35</td>\n",
       "      <td>credit_card</td>\n",
       "      <td>1</td>\n",
       "    </tr>\n",
       "    <tr>\n",
       "      <th>4</th>\n",
       "      <td>583174fbe37d3d5f0d6661be3aad1786</td>\n",
       "      <td>SP</td>\n",
       "      <td>guarulhos</td>\n",
       "      <td>canceled</td>\n",
       "      <td>malas_acessorios</td>\n",
       "      <td>89.9</td>\n",
       "      <td>sao paulo</td>\n",
       "      <td>SP</td>\n",
       "      <td>2018-08-05 19:24:33</td>\n",
       "      <td>credit_card</td>\n",
       "      <td>1</td>\n",
       "    </tr>\n",
       "  </tbody>\n",
       "</table>\n",
       "</div>"
      ],
      "text/plain": [
       "                           order_id customer_state customer_city order_status  \\\n",
       "0  b18dcdf73be66366873cd26c5724d1dc             SP     sao paulo    delivered   \n",
       "1  b18dcdf73be66366873cd26c5724d1dc             SP     sao paulo    delivered   \n",
       "2  b18dcdf73be66366873cd26c5724d1dc             SP     sao paulo    delivered   \n",
       "3  b18dcdf73be66366873cd26c5724d1dc             SP     sao paulo    delivered   \n",
       "4  583174fbe37d3d5f0d6661be3aad1786             SP     guarulhos     canceled   \n",
       "\n",
       "  product_category_name  price     seller_city seller_state  \\\n",
       "0       cama_mesa_banho  119.0  belo horizonte           MG   \n",
       "1       cama_mesa_banho   99.9      piracicaba           SP   \n",
       "2       cama_mesa_banho   99.9      piracicaba           SP   \n",
       "3       cama_mesa_banho   99.9      piracicaba           SP   \n",
       "4      malas_acessorios   89.9       sao paulo           SP   \n",
       "\n",
       "     order_approved_at payment_type  review_score  \n",
       "0  2018-04-09 20:10:35  credit_card             1  \n",
       "1  2018-04-09 20:10:35  credit_card             1  \n",
       "2  2018-04-09 20:10:35  credit_card             1  \n",
       "3  2018-04-09 20:10:35  credit_card             1  \n",
       "4  2018-08-05 19:24:33  credit_card             1  "
      ]
     },
     "execution_count": 20,
     "metadata": {},
     "output_type": "execute_result"
    }
   ],
   "source": [
    "query = \"\"\"\n",
    "SELECT \n",
    "    o.order_id,\n",
    "    c.customer_state,\n",
    "    c.customer_city, \n",
    "    o.order_status,\n",
    "    p.product_category_name,\n",
    "    oi.price,\n",
    "    s.seller_city,\n",
    "    s.seller_state,\n",
    "    o.order_approved_at,\n",
    "    op.payment_type,\n",
    "    or2.review_score \n",
    "FROM orders o INNER JOIN order_items oi ON (o.order_id = oi.order_id)\n",
    "              INNER JOIN customer c ON (o.customer_id = c.customer_id)\n",
    "              INNER JOIN products p ON (oi.product_id = p.product_id)\n",
    "              INNER JOIN sellers s ON (oi.seller_id = s.seller_id)\n",
    "              INNER JOIN order_payments op ON (o.order_id = op.order_id)\n",
    "              INNER JOIN order_reviews or2 ON (o.order_id = or2.order_id)\n",
    "WHERE or2.review_score = 1\n",
    "LIMIT 70;\n",
    "\"\"\"\n",
    "\n",
    "cur.execute(query)\n",
    "\n",
    "# como a biblioteca pandas, o resultado da consulta está em dataframe\n",
    "df = pd.read_sql(query, con = con)\n",
    "df.head()"
   ]
  },
  {
   "cell_type": "markdown",
   "id": "fcd1b65d",
   "metadata": {},
   "source": [
    "**17. Quantos tipos de pagamentos foram usados pelo cliente para pagar o pedido 'e481f51cbdc54678b7cc49136f2d6af7’**"
   ]
  },
  {
   "cell_type": "code",
   "execution_count": 21,
   "id": "76e34532",
   "metadata": {
    "ExecuteTime": {
     "end_time": "2023-01-13T17:14:28.812754Z",
     "start_time": "2023-01-13T17:14:28.502530Z"
    }
   },
   "outputs": [
    {
     "data": {
      "text/html": [
       "<div>\n",
       "<style scoped>\n",
       "    .dataframe tbody tr th:only-of-type {\n",
       "        vertical-align: middle;\n",
       "    }\n",
       "\n",
       "    .dataframe tbody tr th {\n",
       "        vertical-align: top;\n",
       "    }\n",
       "\n",
       "    .dataframe thead th {\n",
       "        text-align: right;\n",
       "    }\n",
       "</style>\n",
       "<table border=\"1\" class=\"dataframe\">\n",
       "  <thead>\n",
       "    <tr style=\"text-align: right;\">\n",
       "      <th></th>\n",
       "      <th>COUNT(op.payment_type)</th>\n",
       "    </tr>\n",
       "  </thead>\n",
       "  <tbody>\n",
       "    <tr>\n",
       "      <th>0</th>\n",
       "      <td>3</td>\n",
       "    </tr>\n",
       "  </tbody>\n",
       "</table>\n",
       "</div>"
      ],
      "text/plain": [
       "   COUNT(op.payment_type)\n",
       "0                       3"
      ]
     },
     "execution_count": 21,
     "metadata": {},
     "output_type": "execute_result"
    }
   ],
   "source": [
    "query = \"\"\"\n",
    "SELECT \n",
    "    COUNT(op.payment_type) \n",
    "FROM orders o LEFT JOIN order_payments op ON (op.order_id = o.order_id)\n",
    "WHERE O.order_id = 'e481f51cbdc54678b7cc49136f2d6af7'\n",
    "\"\"\"\n",
    "\n",
    "cur.execute(query)\n",
    "\n",
    "# como a biblioteca pandas, o resultado da consulta está em dataframe\n",
    "df = pd.read_sql(query, con = con)\n",
    "df.head()"
   ]
  },
  {
   "cell_type": "markdown",
   "id": "f64505b2",
   "metadata": {},
   "source": [
    "**18. Quantos pedidos (orders) não tem nenhuma avaliação (review) ?**"
   ]
  },
  {
   "cell_type": "code",
   "execution_count": 22,
   "id": "91b0fe59",
   "metadata": {
    "ExecuteTime": {
     "end_time": "2023-01-13T17:14:35.131597Z",
     "start_time": "2023-01-13T17:14:34.598611Z"
    }
   },
   "outputs": [
    {
     "data": {
      "text/html": [
       "<div>\n",
       "<style scoped>\n",
       "    .dataframe tbody tr th:only-of-type {\n",
       "        vertical-align: middle;\n",
       "    }\n",
       "\n",
       "    .dataframe tbody tr th {\n",
       "        vertical-align: top;\n",
       "    }\n",
       "\n",
       "    .dataframe thead th {\n",
       "        text-align: right;\n",
       "    }\n",
       "</style>\n",
       "<table border=\"1\" class=\"dataframe\">\n",
       "  <thead>\n",
       "    <tr style=\"text-align: right;\">\n",
       "      <th></th>\n",
       "      <th>COUNT(or2.review_id)</th>\n",
       "    </tr>\n",
       "  </thead>\n",
       "  <tbody>\n",
       "    <tr>\n",
       "      <th>0</th>\n",
       "      <td>0</td>\n",
       "    </tr>\n",
       "  </tbody>\n",
       "</table>\n",
       "</div>"
      ],
      "text/plain": [
       "   COUNT(or2.review_id)\n",
       "0                     0"
      ]
     },
     "execution_count": 22,
     "metadata": {},
     "output_type": "execute_result"
    }
   ],
   "source": [
    "query = \"\"\"\n",
    "SELECT\n",
    "    COUNT(or2.review_id) \n",
    "FROM orders o LEFT JOIN order_reviews or2 ON ( or2.order_id = o.order_id )\n",
    "WHERE or2.review_id ISNULL\n",
    "\"\"\"\n",
    "\n",
    "cur.execute(query)\n",
    "\n",
    "# como a biblioteca pandas, o resultado da consulta está em dataframe\n",
    "df = pd.read_sql(query, con = con)\n",
    "df.head()"
   ]
  },
  {
   "cell_type": "markdown",
   "id": "2233195f",
   "metadata": {},
   "source": [
    "**19. Quais são os top 10 vendedores com mais clientes?**"
   ]
  },
  {
   "cell_type": "code",
   "execution_count": 23,
   "id": "538844c4",
   "metadata": {
    "ExecuteTime": {
     "end_time": "2023-01-13T17:14:37.705396Z",
     "start_time": "2023-01-13T17:14:36.271425Z"
    }
   },
   "outputs": [
    {
     "data": {
      "text/html": [
       "<div>\n",
       "<style scoped>\n",
       "    .dataframe tbody tr th:only-of-type {\n",
       "        vertical-align: middle;\n",
       "    }\n",
       "\n",
       "    .dataframe tbody tr th {\n",
       "        vertical-align: top;\n",
       "    }\n",
       "\n",
       "    .dataframe thead th {\n",
       "        text-align: right;\n",
       "    }\n",
       "</style>\n",
       "<table border=\"1\" class=\"dataframe\">\n",
       "  <thead>\n",
       "    <tr style=\"text-align: right;\">\n",
       "      <th></th>\n",
       "      <th>seller_id</th>\n",
       "      <th>COUNT(DISTINCT c.customer_id)</th>\n",
       "    </tr>\n",
       "  </thead>\n",
       "  <tbody>\n",
       "    <tr>\n",
       "      <th>0</th>\n",
       "      <td>6560211a19b47992c3666cc44a7e94c0</td>\n",
       "      <td>1854</td>\n",
       "    </tr>\n",
       "    <tr>\n",
       "      <th>1</th>\n",
       "      <td>4a3ca9315b744ce9f8e9374361493884</td>\n",
       "      <td>1806</td>\n",
       "    </tr>\n",
       "    <tr>\n",
       "      <th>2</th>\n",
       "      <td>cc419e0650a3c5ba77189a1882b7556a</td>\n",
       "      <td>1706</td>\n",
       "    </tr>\n",
       "    <tr>\n",
       "      <th>3</th>\n",
       "      <td>1f50f920176fa81dab994f9023523100</td>\n",
       "      <td>1404</td>\n",
       "    </tr>\n",
       "    <tr>\n",
       "      <th>4</th>\n",
       "      <td>da8622b14eb17ae2831f4ac5b9dab84a</td>\n",
       "      <td>1314</td>\n",
       "    </tr>\n",
       "  </tbody>\n",
       "</table>\n",
       "</div>"
      ],
      "text/plain": [
       "                          seller_id  COUNT(DISTINCT c.customer_id)\n",
       "0  6560211a19b47992c3666cc44a7e94c0                           1854\n",
       "1  4a3ca9315b744ce9f8e9374361493884                           1806\n",
       "2  cc419e0650a3c5ba77189a1882b7556a                           1706\n",
       "3  1f50f920176fa81dab994f9023523100                           1404\n",
       "4  da8622b14eb17ae2831f4ac5b9dab84a                           1314"
      ]
     },
     "execution_count": 23,
     "metadata": {},
     "output_type": "execute_result"
    }
   ],
   "source": [
    "query = \"\"\"\n",
    "SELECT \n",
    "    s.seller_id,\n",
    "    COUNT(DISTINCT c.customer_id) \n",
    "FROM sellers s LEFT JOIN order_items oi ON (s.seller_id = oi.seller_id)\n",
    "               LEFT JOIN orders o ON (o.order_id = oi.order_id)\n",
    "               LEFT JOIN customer c ON (c.customer_id = o.customer_id)\n",
    "GROUP BY s.seller_id \n",
    "ORDER BY COUNT(DISTINCT c.customer_id) DESC\n",
    "LIMIT 10;\n",
    "\"\"\"\n",
    "\n",
    "cur.execute(query)\n",
    "\n",
    "# como a biblioteca pandas, o resultado da consulta está em dataframe\n",
    "df = pd.read_sql(query, con = con)\n",
    "df.head()"
   ]
  },
  {
   "cell_type": "markdown",
   "id": "d39cfb6c",
   "metadata": {},
   "source": [
    "**20. Qual o número de pedido com o tipo de pagamento igual a “boleto”?**"
   ]
  },
  {
   "cell_type": "code",
   "execution_count": 24,
   "id": "c8d28d1f",
   "metadata": {
    "ExecuteTime": {
     "end_time": "2023-01-13T17:15:58.901735Z",
     "start_time": "2023-01-13T17:15:58.756916Z"
    }
   },
   "outputs": [
    {
     "data": {
      "text/html": [
       "<div>\n",
       "<style scoped>\n",
       "    .dataframe tbody tr th:only-of-type {\n",
       "        vertical-align: middle;\n",
       "    }\n",
       "\n",
       "    .dataframe tbody tr th {\n",
       "        vertical-align: top;\n",
       "    }\n",
       "\n",
       "    .dataframe thead th {\n",
       "        text-align: right;\n",
       "    }\n",
       "</style>\n",
       "<table border=\"1\" class=\"dataframe\">\n",
       "  <thead>\n",
       "    <tr style=\"text-align: right;\">\n",
       "      <th></th>\n",
       "      <th>COUNT(o.order_id)</th>\n",
       "    </tr>\n",
       "  </thead>\n",
       "  <tbody>\n",
       "    <tr>\n",
       "      <th>0</th>\n",
       "      <td>19784</td>\n",
       "    </tr>\n",
       "  </tbody>\n",
       "</table>\n",
       "</div>"
      ],
      "text/plain": [
       "   COUNT(o.order_id)\n",
       "0              19784"
      ]
     },
     "execution_count": 24,
     "metadata": {},
     "output_type": "execute_result"
    }
   ],
   "source": [
    "query = \"\"\"\n",
    "SELECT\n",
    "    COUNT(o.order_id) \n",
    "FROM orders o \n",
    "WHERE o.order_id IN (SELECT DISTINCT op.order_id \n",
    "                     FROM order_payments op\n",
    "                     WHERE op.payment_type = 'boleto')\n",
    "\"\"\"\n",
    "\n",
    "cur.execute(query)\n",
    "\n",
    "# como a biblioteca pandas, o resultado da consulta está em dataframe\n",
    "df = pd.read_sql(query, con = con)\n",
    "df.head()"
   ]
  },
  {
   "cell_type": "markdown",
   "id": "6146e4c0",
   "metadata": {},
   "source": [
    "**21. Refaça o exercício 01 usando união de tabelas.**"
   ]
  },
  {
   "cell_type": "code",
   "execution_count": 25,
   "id": "a93d6d18",
   "metadata": {
    "ExecuteTime": {
     "end_time": "2023-01-13T17:16:41.729741Z",
     "start_time": "2023-01-13T17:16:41.454972Z"
    }
   },
   "outputs": [
    {
     "data": {
      "text/html": [
       "<div>\n",
       "<style scoped>\n",
       "    .dataframe tbody tr th:only-of-type {\n",
       "        vertical-align: middle;\n",
       "    }\n",
       "\n",
       "    .dataframe tbody tr th {\n",
       "        vertical-align: top;\n",
       "    }\n",
       "\n",
       "    .dataframe thead th {\n",
       "        text-align: right;\n",
       "    }\n",
       "</style>\n",
       "<table border=\"1\" class=\"dataframe\">\n",
       "  <thead>\n",
       "    <tr style=\"text-align: right;\">\n",
       "      <th></th>\n",
       "      <th>COUNT(o.order_id)</th>\n",
       "    </tr>\n",
       "  </thead>\n",
       "  <tbody>\n",
       "    <tr>\n",
       "      <th>0</th>\n",
       "      <td>19784</td>\n",
       "    </tr>\n",
       "  </tbody>\n",
       "</table>\n",
       "</div>"
      ],
      "text/plain": [
       "   COUNT(o.order_id)\n",
       "0              19784"
      ]
     },
     "execution_count": 25,
     "metadata": {},
     "output_type": "execute_result"
    }
   ],
   "source": [
    "query = \"\"\"\n",
    "SELECT \n",
    "    COUNT(o.order_id)\n",
    " FROM orders o LEFT JOIN order_payments op ON (o.order_id = op.order_id)\n",
    " WHERE op.payment_type = 'boleto'\n",
    "\"\"\"\n",
    "\n",
    "cur.execute(query)\n",
    "\n",
    "# como a biblioteca pandas, o resultado da consulta está em dataframe\n",
    "df = pd.read_sql(query, con = con)\n",
    "df.head()"
   ]
  },
  {
   "cell_type": "markdown",
   "id": "8b748b96",
   "metadata": {},
   "source": [
    "**22. Cria uma tabela que mostre a média de avaliações por dia, a média de preço por dia, a soma dos preços por dia, o preço mínimo por dia, o número de pedidos por dia e o número de clientes únicos que compraram no dia.**"
   ]
  },
  {
   "cell_type": "code",
   "execution_count": 28,
   "id": "c4d24890",
   "metadata": {
    "ExecuteTime": {
     "end_time": "2023-01-13T17:21:20.354238Z",
     "start_time": "2023-01-13T17:21:19.979103Z"
    }
   },
   "outputs": [
    {
     "data": {
      "text/html": [
       "<div>\n",
       "<style scoped>\n",
       "    .dataframe tbody tr th:only-of-type {\n",
       "        vertical-align: middle;\n",
       "    }\n",
       "\n",
       "    .dataframe tbody tr th {\n",
       "        vertical-align: top;\n",
       "    }\n",
       "\n",
       "    .dataframe thead th {\n",
       "        text-align: right;\n",
       "    }\n",
       "</style>\n",
       "<table border=\"1\" class=\"dataframe\">\n",
       "  <thead>\n",
       "    <tr style=\"text-align: right;\">\n",
       "      <th></th>\n",
       "      <th>data_</th>\n",
       "      <th>avg_reviews</th>\n",
       "      <th>avg_price</th>\n",
       "      <th>sum_price</th>\n",
       "      <th>min_price</th>\n",
       "      <th>num_customer</th>\n",
       "    </tr>\n",
       "  </thead>\n",
       "  <tbody>\n",
       "    <tr>\n",
       "      <th>0</th>\n",
       "      <td>2016-10-02</td>\n",
       "      <td>1.0</td>\n",
       "      <td>NaN</td>\n",
       "      <td>NaN</td>\n",
       "      <td>NaN</td>\n",
       "      <td>NaN</td>\n",
       "    </tr>\n",
       "    <tr>\n",
       "      <th>1</th>\n",
       "      <td>2016-10-06</td>\n",
       "      <td>1.0</td>\n",
       "      <td>NaN</td>\n",
       "      <td>NaN</td>\n",
       "      <td>NaN</td>\n",
       "      <td>NaN</td>\n",
       "    </tr>\n",
       "    <tr>\n",
       "      <th>2</th>\n",
       "      <td>2016-10-09</td>\n",
       "      <td>1.0</td>\n",
       "      <td>128.797500</td>\n",
       "      <td>1545.57</td>\n",
       "      <td>22.37</td>\n",
       "      <td>10.0</td>\n",
       "    </tr>\n",
       "    <tr>\n",
       "      <th>3</th>\n",
       "      <td>2016-10-15</td>\n",
       "      <td>4.0</td>\n",
       "      <td>92.313846</td>\n",
       "      <td>2400.16</td>\n",
       "      <td>6.00</td>\n",
       "      <td>NaN</td>\n",
       "    </tr>\n",
       "    <tr>\n",
       "      <th>4</th>\n",
       "      <td>2016-10-16</td>\n",
       "      <td>5.0</td>\n",
       "      <td>276.431667</td>\n",
       "      <td>1658.59</td>\n",
       "      <td>24.90</td>\n",
       "      <td>NaN</td>\n",
       "    </tr>\n",
       "  </tbody>\n",
       "</table>\n",
       "</div>"
      ],
      "text/plain": [
       "        data_  avg_reviews   avg_price  sum_price  min_price  num_customer\n",
       "0  2016-10-02          1.0         NaN        NaN        NaN           NaN\n",
       "1  2016-10-06          1.0         NaN        NaN        NaN           NaN\n",
       "2  2016-10-09          1.0  128.797500    1545.57      22.37          10.0\n",
       "3  2016-10-15          4.0   92.313846    2400.16       6.00           NaN\n",
       "4  2016-10-16          5.0  276.431667    1658.59      24.90           NaN"
      ]
     },
     "execution_count": 28,
     "metadata": {},
     "output_type": "execute_result"
    }
   ],
   "source": [
    "query = \"\"\"\n",
    "SELECT \n",
    "    t1.data_,\n",
    "    t1.avg_reviews,\n",
    "    t2.avg_price,\n",
    "    t2.sum_price,\n",
    "    t2.min_price,\n",
    "    t3.num_customer\n",
    "FROM (SELECT \n",
    "        DATE(or2.review_creation_date) as data_,\n",
    "        AVG(or2.review_score) as avg_reviews\n",
    "      FROM order_reviews or2 \n",
    "      GROUP BY DATE(or2.review_creation_date)) as t1 LEFT JOIN (SELECT \n",
    "                                                                    DATE(oi.shipping_limit_date) as data_,\n",
    "                                                                    AVG(oi.price) as avg_price,\n",
    "                                                                    SUM(oi.price) as sum_price,\n",
    "                                                                    MIN(oi.price) as min_price\n",
    "                                                                FROM order_items oi \n",
    "                                                                GROUP BY DATE(oi.shipping_limit_date)) as t2 ON (t1.data_ = t2.data_)LEFT JOIN (SELECT \n",
    "                                                                                DATE(o.order_approved_at) as data_,\n",
    "                                                                                COUNT(o.customer_id) as num_customer\n",
    "                                                                              FROM orders o \n",
    "                                                                              GROUP BY DATE(o.order_approved_at)) as t3 ON (t2.data_ = t3.data_)\n",
    "\"\"\"\n",
    "\n",
    "cur.execute(query)\n",
    "\n",
    "# como a biblioteca pandas, o resultado da consulta está em dataframe\n",
    "df = pd.read_sql(query, con = con)\n",
    "df.head()"
   ]
  },
  {
   "cell_type": "code",
   "execution_count": null,
   "id": "5f3c5fe9",
   "metadata": {},
   "outputs": [],
   "source": []
  }
 ],
 "metadata": {
  "kernelspec": {
   "display_name": "sql_env",
   "language": "python",
   "name": "sql_env"
  },
  "language_info": {
   "codemirror_mode": {
    "name": "ipython",
    "version": 3
   },
   "file_extension": ".py",
   "mimetype": "text/x-python",
   "name": "python",
   "nbconvert_exporter": "python",
   "pygments_lexer": "ipython3",
   "version": "3.10.0"
  }
 },
 "nbformat": 4,
 "nbformat_minor": 5
}
